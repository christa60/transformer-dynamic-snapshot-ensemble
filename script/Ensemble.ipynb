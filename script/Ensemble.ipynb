{
 "cells": [
  {
   "cell_type": "code",
   "execution_count": 1,
   "metadata": {},
   "outputs": [],
   "source": [
    "import seaborn as sns\n",
    "import pandas as pd\n",
    "import numpy as np\n",
    "import matplotlib.pyplot as plt\n",
    "%matplotlib inline\n",
    "from collections import defaultdict"
   ]
  },
  {
   "cell_type": "code",
   "execution_count": 2,
   "metadata": {},
   "outputs": [
    {
     "name": "stdout",
     "output_type": "stream",
     "text": [
      "0.24.2\n"
     ]
    }
   ],
   "source": [
    "# from sklearn.metrics import classification_report, confusion_matrix\n",
    "import sklearn\n",
    "print(sklearn.__version__)"
   ]
  },
  {
   "cell_type": "code",
   "execution_count": 3,
   "metadata": {},
   "outputs": [],
   "source": [
    "class Combination:\n",
    "    def __init__(self, num_model=0, file_list=[], model_weights=[], model_outputs=[]):\n",
    "        # Number of members\n",
    "        self.num_model = num_model\n",
    "        # The list of the file names of the members\n",
    "        self.file_list = file_list\n",
    "        # The list of dataframes of model outputs\n",
    "        self.model_outputs = model_outputs\n",
    "        # The model weights\n",
    "        self.model_weights = model_weights\n",
    "               \n",
    "    def get_config(self, config_name):\n",
    "        df_config = pd.read_csv(config_name,header=None,names=['model','weight'])\n",
    "        self.file_list = df_config['model'].tolist()\n",
    "        self.model_weights = df_config['weight'].tolist()\n",
    "        self.num_model = len(self.file_list)\n",
    "        \n",
    "    def read_preds(self, file_name):\n",
    "        return pd.read_csv(file_name, header=0, index_col=0, delimiter='\\t').prediction.values\n",
    "        \n",
    "    def read_model_outputs(self):\n",
    "        for name in self.file_list:\n",
    "            self.model_outputs.append(self.read_preds(name))\n",
    "\n",
    "    def set_model_outputs(self, model_outputs):\n",
    "        self.model_outputs = model_outputs\n",
    "    \n",
    "    def set_model_weights(self, model_weights):\n",
    "        self.model_weights = model_weights\n",
    "        \n",
    "    def set_num_model(self, num_model):\n",
    "        self.num_model = num_model\n",
    "        \n",
    "    def set_file_list(self, file_list):\n",
    "        self.file_list = file_list\n",
    "            \n",
    "    def get_file_list(self):\n",
    "        return self.file_list\n",
    "    \n",
    "    def get_model_outputs(self):\n",
    "        return self.model_outputs\n",
    "    \n",
    "    def get_model_weights(self):\n",
    "        return self.model_weights\n",
    "        \n",
    "    def majority_voting_str(self):\n",
    "        df_preds = pd.DataFrame(self.model_outputs).transpose()\n",
    "        final = df_preds.mode(axis='columns')[0]\n",
    "        return final\n",
    "    \n",
    "    def majority_voting(self):\n",
    "        shape = self.model_outputs[0].shape\n",
    "        votes = np.zeros(shape, dtype=int)\n",
    "        final = np.zeros_like(votes)\n",
    "        for i in range(shape[0]):\n",
    "            for j in range(self.num_model):\n",
    "                c = int(np.argmax(self.model_outputs[j].iloc[i]))\n",
    "                votes[i][c] += 1\n",
    "        final[np.arange(len(votes)), votes.argmax(1)] = 1\n",
    "        final = pd.DataFrame(data=final, index=self.model_outputs[0].index, columns=self.model_outputs[0].columns)\n",
    "        return final\n",
    "    \n",
    "    def weighted_voting(self):\n",
    "        shape = self.model_outputs[0].shape\n",
    "        votes = np.zeros(shape, dtype=float)\n",
    "        final = np.zeros_like(votes, dtype=int)\n",
    "        for i in range(shape[0]):\n",
    "            for j in range(self.num_model):\n",
    "                c = int(np.argmax(self.model_outputs[j].iloc[i]))\n",
    "                votes[i][c] += self.model_weights[j]\n",
    "        final[np.arange(len(votes)), votes.argmax(1)] = 1\n",
    "        final = pd.DataFrame(data=final, index=self.model_outputs[0].index, columns=self.model_outputs[0].columns)\n",
    "        return final\n",
    "    \n",
    "    def averaging(self):\n",
    "        shape = self.model_outputs[0].shape\n",
    "        final = np.zeros(shape, dtype=float)\n",
    "        for i in range(self.num_model):\n",
    "            final += self.model_outputs[i] \n",
    "        final /= self.num_model\n",
    "        return final\n",
    "        \n",
    "    def weighted_averaging(self):\n",
    "        shape = self.model_outputs[0].shape\n",
    "        final = np.zeros(shape, dtype=float)\n",
    "        for i in range(self.num_model):\n",
    "            final += self.model_outputs[i]*self.model_weights[i] \n",
    "        final /= self.num_model\n",
    "        return final"
   ]
  },
  {
   "cell_type": "code",
   "execution_count": null,
   "metadata": {},
   "outputs": [],
   "source": [
    "# Get ensemble components from log files\n",
    "model_weights = []\n",
    "file_list = []\n",
    "names = ['log_idx', 'val_acc', 'checkpoint_step', 'checkpoint_epoch', 'seed']\n",
    "rundir = \"/home/lijing/My_Work/Projects/Thyme/thyme_model/output/EnsTraining/setting-13\"\n",
    "runs = [f\"{rundir}/thyme_PubmedBERTbase-MimicBig-EntityBERT_lr.4e-5_cosine_with_restarts_epoch.15_seed.42\",\n",
    "        f\"{rundir}/thyme_PubmedBERTbase-MimicBig-EntityBERT_lr.4e-5_cosine_with_restarts_epoch.15_seed.52\",\n",
    "        f\"{rundir}/thyme_PubmedBERTbase-MimicBig-EntityBERT_lr.4e-5_cosine_with_restarts_epoch.15_seed.62\",\n",
    "        ]\n",
    "for rundir in runs:\n",
    "    log = f\"{rundir}/ensemble/prune_log.csv\" \n",
    "    df = pd.read_csv(log, header=None, names=names)\n",
    "    seeds, steps, weights = df.seed.values, df.checkpoint_step.values, df.val_acc.values\n",
    "    for i in range(len(seeds)):\n",
    "        seed, step, weight = seeds[i], steps[i], weights[i]\n",
    "        file = f\"{rundir}/ensemble/predict_results_None_{seed}_{step}.txt\"\n",
    "        file_list.append(file)\n",
    "        model_weights.append(weight)\n",
    "        # model_weights.append(1) # majority voting with all weights=1\n",
    "print(file_list)\n",
    "num_model = len(file_list)"
   ]
  },
  {
   "cell_type": "code",
   "execution_count": 4,
   "metadata": {},
   "outputs": [],
   "source": [
    "# List ensemble components from scratch\n",
    "file_list = [\n",
    "'/home/lijing/My_Work/Projects/Thyme/thyme_model/output/EnsTraining/setting-13/thyme_PubmedBERTbase-MimicBig-EntityBERT_lr.4e-5_linear_epoch.3_seed.42_split_r42/predict_results_None.txt',\n",
    "'/home/lijing/My_Work/Projects/Thyme/thyme_model/output/EnsTraining/setting-13/thyme_PubmedBERTbase-MimicBig-EntityBERT_lr.4e-5_linear_epoch.3_seed.42_split_r52/predict_results_None.txt',\n",
    "'/home/lijing/My_Work/Projects/Thyme/thyme_model/output/EnsTraining/setting-13/thyme_PubmedBERTbase-MimicBig-EntityBERT_lr.4e-5_linear_epoch.3_seed.42_split_r62/predict_results_None.txt',\n",
    "'/home/lijing/My_Work/Projects/Thyme/thyme_model/output/EnsTraining/setting-13/thyme_PubmedBERTbase-MimicBig-EntityBERT_lr.4e-5_linear_epoch.3_seed.42_split_r72/predict_results_None.txt',\n",
    "'/home/lijing/My_Work/Projects/Thyme/thyme_model/output/EnsTraining/setting-13/thyme_PubmedBERTbase-MimicBig-EntityBERT_lr.4e-5_linear_epoch.3_seed.42_split_r82/predict_results_None.txt',\n",
    "]\n",
    "num_model = len(file_list)\n",
    "model_weights = [1] * num_model\n"
   ]
  },
  {
   "cell_type": "code",
   "execution_count": 5,
   "metadata": {},
   "outputs": [],
   "source": [
    "model_weights = [1] * num_model \n",
    "combination = Combination(num_model=num_model, file_list=file_list, model_weights=model_weights)\n",
    "combination.read_model_outputs()\n",
    "final = combination.majority_voting_str()\n",
    "final = final.to_frame('prediction')"
   ]
  },
  {
   "cell_type": "code",
   "execution_count": 6,
   "metadata": {},
   "outputs": [],
   "source": [
    "final.to_csv('/home/lijing/My_Work/Projects/Thyme/thyme_model/output/EnsTraining/setting-13/ensemble/majority_vote.csv', index=True, header=True, sep='\\t')"
   ]
  }
 ],
 "metadata": {
  "kernelspec": {
   "display_name": "Python 3",
   "language": "python",
   "name": "python3"
  },
  "language_info": {
   "codemirror_mode": {
    "name": "ipython",
    "version": 3
   },
   "file_extension": ".py",
   "mimetype": "text/x-python",
   "name": "python",
   "nbconvert_exporter": "python",
   "pygments_lexer": "ipython3",
   "version": "3.9.7"
  }
 },
 "nbformat": 4,
 "nbformat_minor": 2
}
